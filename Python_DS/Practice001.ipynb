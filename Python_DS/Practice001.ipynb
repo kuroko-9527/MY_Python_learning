{
 "cells": [
  {
   "cell_type": "code",
   "execution_count": 1,
   "metadata": {
    "collapsed": true,
    "pycharm": {
     "is_executing": false
    }
   },
   "outputs": [
    {
     "name": "stdout",
     "text": [
      "hello,小明\n"
     ],
     "output_type": "stream"
    }
   ],
   "source": [
    "# 编写程序，要求用户输入姓名并且打印你好，姓名\n",
    "print(\"hello,{0:s}\".format(input(\"请输入姓名：\")))"
   ]
  },
  {
   "cell_type": "code",
   "execution_count": 4,
   "outputs": [
    {
     "name": "stdout",
     "text": [
      "丑八怪，太黑别把灯打开\n"
     ],
     "output_type": "stream"
    }
   ],
   "source": [
    "# 代码练习 \n",
    "i = input(\"请输入数字：\")\n",
    "i = int(i) # default python认为输入的是\"str\"\n",
    "if 1 <= i <= 100:\n",
    "    print(\"你好看\")\n",
    "else:\n",
    "    print(\"丑八怪，太黑别把灯打开\")\n"
   ],
   "metadata": {
    "collapsed": false,
    "pycharm": {
     "name": "#%%\n",
     "is_executing": false
    }
   }
  },
  {
   "cell_type": "code",
   "execution_count": 6,
   "outputs": [
    {
     "name": "stdout",
     "text": [
      "i love june\n",
      "ilovejune\n"
     ],
     "output_type": "stream"
    }
   ],
   "source": [
    "# 字符串的拼接\n",
    "print(\"i\",\"love\",\"june\")\n",
    "print(\"i\" + \"love\" + \"june\")\n",
    "\n"
   ],
   "metadata": {
    "collapsed": false,
    "pycharm": {
     "name": "#%%\n",
     "is_executing": false
    }
   }
  },
  {
   "cell_type": "code",
   "execution_count": 7,
   "outputs": [
    {
     "data": {
      "text/plain": "True"
     },
     "metadata": {},
     "output_type": "execute_result",
     "execution_count": 7
    }
   ],
   "source": [
    "# 10 < cost < 50 等价表达式\n",
    "cost = 40\n",
    "cost > 10 and cost < 50\n",
    "\n",
    "\n"
   ],
   "metadata": {
    "collapsed": false,
    "pycharm": {
     "name": "#%%\n",
     "is_executing": false
    }
   }
  },
  {
   "cell_type": "code",
   "execution_count": 9,
   "outputs": [
    {
     "data": {
      "text/plain": "3"
     },
     "metadata": {},
     "output_type": "execute_result",
     "execution_count": 9
    }
   ],
   "source": [
    "int(3.8)\n",
    "# 向下取整"
   ],
   "metadata": {
    "collapsed": false,
    "pycharm": {
     "name": "#%%\n",
     "is_executing": false
    }
   }
  },
  {
   "cell_type": "code",
   "execution_count": 12,
   "outputs": [
    {
     "name": "stdout",
     "text": [
      "2020是闰年\n"
     ],
     "output_type": "stream"
    }
   ],
   "source": [
    "#求一个年份是不是闰年\n",
    "y = int(input(\"请输入年份:\"))\n",
    "if y > 0 and y % 4 == 0:\n",
    "    print(\"{0:d}是闰年\".format(y))\n",
    "else:\n",
    "    print(\"{0:d}不是闰年\".format(y))\n",
    "\n"
   ],
   "metadata": {
    "collapsed": false,
    "pycharm": {
     "name": "#%%\n",
     "is_executing": false
    }
   }
  },
  {
   "cell_type": "code",
   "execution_count": 45,
   "outputs": [
    {
     "name": "stdout",
     "text": [
      "你输入的数字是39,大于A\n",
      "你有9次机会，当前尝试了1次\n",
      "你输入的数字是59,大于A\n",
      "你有9次机会，当前尝试了2次\n",
      "bingo!,你猜对了！当前所用次数为3,总次数为9\n"
     ],
     "output_type": "stream"
    }
   ],
   "source": [
    "# 给用户三次机会，用我们的程序生成一个数字，每次用户猜测之后，提示是否正确，\n",
    "# 以及输入的数字大于还是小于A，当机会用尽后，提示输掉了游戏\n",
    "i = 1\n",
    "n = 3\n",
    "import random # 增加随机数概念\n",
    "A = random.randint(1,100)\n",
    "\n",
    "while i <= n:\n",
    "    x = int(input(\"请输入1-100的数字：\"))\n",
    "    if x > A:\n",
    "        print(\"你输入的数字是{0},大于A\".format(x))\n",
    "        print(\"你有{0}次机会，当前尝试了{1}次\".format(n,i))\n",
    "        i += 1\n",
    "    elif x < A:\n",
    "        print(\"你输入的数字是{0},小于A\".format(x))\n",
    "        print(\"你有{0}次机会，当前尝试了{1}次\".format(n,i))\n",
    "        i += 1        \n",
    "    elif x == A:\n",
    "        print(\"bingo!,你猜对了！当前所用次数为{0},总次数为{1}\".format(i,n))\n",
    "        break\n",
    "if i > n:\n",
    "    print(\"Game Over你的次数已用尽\")\n",
    "# 在Pycharm中测试成功，在jupyter 中输入两次才会显示\n",
    "\n"
   ],
   "metadata": {
    "collapsed": false,
    "pycharm": {
     "name": "#%% \n",
     "is_executing": false
    }
   }
  },
  {
   "cell_type": "code",
   "execution_count": 36,
   "outputs": [],
   "source": [
    "# 给用户三次机会，用我们的程序生成一个数字，每次用户猜测之后，提示是否正确，\n",
    "# 以及输入的数字大于还是小于A，当机会用尽后，提示输掉了游戏\n",
    "# 教程中的逻辑为\n",
    "# 设置一个函数，判断输入的格式问题与异常处理\n",
    "# while times 次数-1：为止。\n"
   ],
   "metadata": {
    "collapsed": false,
    "pycharm": {
     "name": "#%%\n",
     "is_executing": false
    }
   }
  }
 ],
 "metadata": {
  "kernelspec": {
   "name": "pycharm-1cb83491",
   "language": "python",
   "display_name": "PyCharm (Python_learning)"
  },
  "language_info": {
   "codemirror_mode": {
    "name": "ipython",
    "version": 2
   },
   "file_extension": ".py",
   "mimetype": "text/x-python",
   "name": "python",
   "nbconvert_exporter": "python",
   "pygments_lexer": "ipython2",
   "version": "2.7.6"
  },
  "pycharm": {
   "stem_cell": {
    "cell_type": "raw",
    "source": [],
    "metadata": {
     "collapsed": false
    }
   }
  }
 },
 "nbformat": 4,
 "nbformat_minor": 0
}